{
 "cells": [
  {
   "cell_type": "markdown",
   "metadata": {},
   "source": [
    "# Figure S4: Characterization of CZ gates"
   ]
  },
  {
   "cell_type": "code",
   "execution_count": null,
   "metadata": {},
   "outputs": [],
   "source": [
    "from matplotlib.colors import to_rgba\n",
    "import matplotlib.pyplot as plt\n",
    "import matplotlib\n",
    "import numpy as np"
   ]
  },
  {
   "cell_type": "code",
   "execution_count": null,
   "metadata": {},
   "outputs": [],
   "source": [
    "x_d1_before = np.load('../Data/Figure S4/x_d1_before.npy')\n",
    "x_d3_before = np.load('../Data/Figure S4/x_d3_before.npy')\n",
    "x_d4_before = np.load('../Data/Figure S4/x_d4_before.npy')\n",
    "x_d3_after = np.load('../Data/Figure S4/x_d3_after.npy')\n",
    "x_d4_after = np.load('../Data/Figure S4/x_d4_after.npy')"
   ]
  },
  {
   "cell_type": "code",
   "execution_count": null,
   "metadata": {},
   "outputs": [],
   "source": [
    "expectation_x_d1 = [90, 0, 0, 90, 0, 0, -90, 0, 0, 0, 0, 0, 0, 0, 0]\n",
    "expectation_x_d3 = [90, 0, 90, 0, 0, -90, 0, 0, 0, 0, 0, 0, 0, 0, 0]\n",
    "expectation_x_d4 = [90, 90, 0, 0, -90, 0, 0, 0, 0, 0, 0, 0, 0, 0, 0]\n",
    "\n",
    "# Tomography plots\n",
    "fig = plt.figure(figsize=(15,15), dpi=600)\n",
    "plt.rcParams.update({'font.size': 18, 'mathtext.default':  'regular' })\n",
    "plt.subplots_adjust(hspace=0.1)\n",
    "axs = [fig.add_subplot(311), fig.add_subplot(312), fig.add_subplot(313)]\n",
    "\n",
    "axs[0].set_yticks(np.linspace(-90,90,5))\n",
    "axs[0].set_xlim([-0.3,14.3])\n",
    "axs[0].set_ylim([-105,105])\n",
    "axs[0].set_ylabel(r'Angle (deg)')\n",
    "axs[0].plot(np.arange(15), x_d1_before, color='darkgrey', linewidth=4, zorder=0)\n",
    "axs[0].scatter(np.arange(15), x_d1_before, color='r', label=r'Model fit before optimization', s=100)\n",
    "axs[0].plot(np.arange(15), expectation_x_d1, color='black', linestyle='--',label=r'Ideal')\n",
    "axs[0].legend(loc='lower right', frameon=True, framealpha=1, facecolor='white', edgecolor='white')\n",
    "axs[0].set_xticks(np.arange(0,15,1))\n",
    "axs[0].set_xticklabels('' for i in np.arange(15))\n",
    "axs[0].set_title('CZ gate $Q_{A}$ and $Q_{O}$', y=0.9, fontsize = 18, horizontalalignment='center', transform=axs[0].transAxes).set_bbox(dict(alpha=1, facecolor='white', edgecolor='white'))\n",
    "axs[0].text(0.955, 0.9, r'(a)', transform = axs[0].transAxes).set_bbox(dict(alpha=1, facecolor='white', edgecolor='white'))\n",
    "axs[0].grid(color='lightgrey')\n",
    "\n",
    "axs[1].set_yticks(np.linspace(-90,90,5))\n",
    "axs[1].set_xlim([-0.3,14.3])\n",
    "axs[1].set_ylim([-105,105])\n",
    "axs[1].set_ylabel('Angle (deg)')\n",
    "axs[1].plot(np.arange(15), x_d3_before, color='darkgrey', linewidth=4, zorder=0)\n",
    "axs[1].scatter(np.arange(15), x_d3_before, color='r', label='Model fit before optimization', s=100)\n",
    "axs[1].plot(np.arange(15), x_d3_after, color='darkgrey', linewidth=4, zorder=0)\n",
    "axs[1].scatter(np.arange(15), x_d3_after, color='g', label='Model fit after optimization', s=100)\n",
    "axs[1].plot(np.arange(15), expectation_x_d3, color='black', linestyle='--',label='Ideal')\n",
    "axs[1].legend(loc='lower right', frameon=True, framealpha=1, facecolor='white', edgecolor='white')\n",
    "axs[1].set_xticks(np.arange(0,15,1))\n",
    "axs[1].set_xticklabels('' for i in np.arange(15))\n",
    "axs[1].set_title('CZ gate $Q_{A}$ and $Q_{I1}$', y=0.9, fontsize = 18, horizontalalignment='center', transform=axs[1].transAxes).set_bbox(dict(alpha=1, facecolor='white', edgecolor='white'))\n",
    "axs[1].text(0.955, 0.9, r'(b)', transform = axs[1].transAxes).set_bbox(dict(alpha=1, facecolor='white', edgecolor='white'))\n",
    "axs[1].grid(color='lightgrey')\n",
    "\n",
    "axs[2].set_yticks(np.linspace(-90,90,5))\n",
    "axs[2].set_xlim([-0.3,14.3])\n",
    "axs[2].set_ylim([-105,105])\n",
    "axs[2].set_ylabel('Angle (deg)')\n",
    "axs[2].set_xlabel('Pauli vector')\n",
    "axs[2].plot(np.arange(15), x_d4_before, color='darkgrey', linewidth=4, zorder=0)\n",
    "axs[2].scatter(np.arange(15), x_d4_before, color='r', label='Model fit before optimization', s=100)\n",
    "axs[2].plot(np.arange(15), x_d4_after, color='darkgrey', linewidth=4, zorder=0)\n",
    "axs[2].scatter(np.arange(15), x_d4_after, color='g', label='Model fit after optimization', s=100)\n",
    "axs[2].plot(np.arange(15), expectation_x_d4, color='black', linestyle='--',label='Ideal')\n",
    "axs[2].legend(loc='lower right', frameon=True, framealpha=1, facecolor='white', edgecolor='white')\n",
    "axs[2].set_xticks(np.arange(0,15,1))\n",
    "axs[2].set_xticklabels(['$Z_{A}$','$Z_{I2}$','$Z_{I1}$','$Z_{O}$',\\\n",
    "                    '$Z_{A}Z_{I2}$','$Z_{A}Z_{I1}$','$Z_{A}Z_{O}$','$Z_{I2}Z_{I1}$','$Z_{I2}Z_{O}$','$Z_{I1}Z_{O}$',\\\n",
    "                    '$Z_{A}Z_{I2}Z_{I1}$','$Z_{A}Z_{I2}Z_{O}$','$Z_{A}Z_{I1}Z_{O}$','$Z_{I2}Z_{I1}Z_{O}$',\\\n",
    "                    '$Z_{A}Z_{I2}Z_{I1}Z_{O}$'], rotation = 45, ha = \"right\")\n",
    "axs[2].set_title('CZ gate $Q_{A}$ and $Q_{I2}$', y=0.9, fontsize = 18, horizontalalignment='center', transform=axs[2].transAxes).set_bbox(dict(alpha=1, facecolor='white', edgecolor='white'))\n",
    "axs[2].text(0.955, 0.9, r'(c)', transform = axs[2].transAxes).set_bbox(dict(alpha=1, facecolor='white', edgecolor='white'))\n",
    "axs[2].grid(color='lightgrey')\n",
    "\n",
    "plt.savefig(fname=f'Figure_S4.pdf', bbox_inches = 'tight')"
   ]
  },
  {
   "cell_type": "code",
   "execution_count": null,
   "metadata": {},
   "outputs": [],
   "source": []
  }
 ],
 "metadata": {
  "kernelspec": {
   "display_name": "Python 3",
   "language": "python",
   "name": "python3"
  },
  "language_info": {
   "codemirror_mode": {
    "name": "ipython",
    "version": 3
   },
   "file_extension": ".py",
   "mimetype": "text/x-python",
   "name": "python",
   "nbconvert_exporter": "python",
   "pygments_lexer": "ipython3",
   "version": "3.9.15"
  },
  "toc": {
   "base_numbering": 1,
   "nav_menu": {},
   "number_sections": true,
   "sideBar": true,
   "skip_h1_title": false,
   "title_cell": "Table of Contents",
   "title_sidebar": "Contents",
   "toc_cell": false,
   "toc_position": {},
   "toc_section_display": true,
   "toc_window_display": false
  },
  "varInspector": {
   "cols": {
    "lenName": 16,
    "lenType": 16,
    "lenVar": 40
   },
   "kernels_config": {
    "python": {
     "delete_cmd_postfix": "",
     "delete_cmd_prefix": "del ",
     "library": "var_list.py",
     "varRefreshCmd": "print(var_dic_list())"
    },
    "r": {
     "delete_cmd_postfix": ") ",
     "delete_cmd_prefix": "rm(",
     "library": "var_list.r",
     "varRefreshCmd": "cat(var_dic_list()) "
    }
   },
   "types_to_exclude": [
    "module",
    "function",
    "builtin_function_or_method",
    "instance",
    "_Feature"
   ],
   "window_display": false
  }
 },
 "nbformat": 4,
 "nbformat_minor": 4
}
