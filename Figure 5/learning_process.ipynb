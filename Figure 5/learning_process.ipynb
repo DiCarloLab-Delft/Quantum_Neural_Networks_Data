{
 "cells": [
  {
   "cell_type": "markdown",
   "metadata": {},
   "source": [
    "# Figure 5: Learning process for NAND Boolean function"
   ]
  },
  {
   "cell_type": "code",
   "execution_count": null,
   "metadata": {},
   "outputs": [],
   "source": [
    "from mpl_toolkits.axes_grid1 import make_axes_locatable\n",
    "from mpl_toolkits.mplot3d import Axes3D\n",
    "from matplotlib import gridspec\n",
    "import matplotlib.pyplot as plt\n",
    "import numpy as np"
   ]
  },
  {
   "cell_type": "code",
   "execution_count": null,
   "metadata": {},
   "outputs": [],
   "source": [
    "w1_coordinates = np.load('../Data/Figure 5/w1_coordinates.npy')\n",
    "w2_coordinates = np.load('../Data/Figure 5/w2_coordinates.npy')\n",
    "b_coordinates = np.load('../Data/Figure 5/b_coordinates.npy')\n",
    "cost_function_values = np.load('../Data/Figure 5/cost_function_values.npy')"
   ]
  },
  {
   "cell_type": "code",
   "execution_count": null,
   "metadata": {},
   "outputs": [],
   "source": [
    "mins = []\n",
    "minimal = 1\n",
    "iterations = np.arange(0,len(w1_coordinates),1)\n",
    "for index, value in enumerate(cost_function_values):\n",
    "    if value < minimal:\n",
    "        minimal = value\n",
    "        mins.append(index)\n",
    "mins = np.array(mins)\n",
    "value=cost_function_values.argmin()\n",
    "\n",
    "# Plotting\n",
    "fig = plt.figure(figsize=(10,18), dpi=600)\n",
    "plt.rcParams.update({'font.size': 16})\n",
    "plt.subplots_adjust(wspace=0, hspace=0.1)\n",
    "spec = gridspec.GridSpec(ncols=1, nrows=5,\n",
    "                         width_ratios=[1],\n",
    "                         height_ratios=[5, 1, 1, 1, 1])\n",
    "axs = [fig.add_subplot(spec[0], projection='3d'),\n",
    "       fig.add_subplot(spec[1]),\n",
    "       fig.add_subplot(spec[2]),\n",
    "       fig.add_subplot(spec[3]),\n",
    "       fig.add_subplot(spec[4]) ]\n",
    "\n",
    "# Cost function 3D plot\n",
    "p = axs[0].scatter(w1_coordinates, w2_coordinates, b_coordinates, c=cost_function_values, s=60, cmap='terrain', edgecolors='black', alpha=1, linewidth=0.5, vmin=0.1, vmax=.6)\n",
    "axs[0].plot(w1_coordinates[mins], w2_coordinates[mins], b_coordinates[mins], '-*', zorder=10,color='darkorange', markersize=12, markeredgecolor='black', markeredgewidth=0.5, label = 'Current best')\n",
    "axs[0].view_init(30, 250)\n",
    "axs[0].set_xlabel(\"$w_1$ ($\\pi$ rads)\")\n",
    "axs[0].set_xticks(np.linspace(0,360,3,dtype=int))\n",
    "axs[0].set_xticklabels(np.linspace(0,2,3))\n",
    "axs[0].set_ylabel(\"$w_2$ ($\\pi$ rads)\")\n",
    "axs[0].set_yticks(np.linspace(0,360,3,dtype=int))\n",
    "axs[0].set_yticklabels(np.linspace(0,2,3))\n",
    "axs[0].set_zlabel(\"$b$ ($\\pi$ rads)\")\n",
    "axs[0].set_zticks(np.linspace(0,360,3,dtype=int))\n",
    "axs[0].set_zticklabels(np.linspace(0,2,3))\n",
    "box = axs[0].get_position()\n",
    "axs[0].set_position([box.x0-0.1, box.y0+0.01,\n",
    "                  box.width, box.height])\n",
    "\n",
    "cbax = fig.add_axes([0.8, 0.57, 0.02, 0.25])\n",
    "cbar = fig.colorbar(p, cax=cbax, fraction=0.03, orientation=\"vertical\")\n",
    "cbar.set_label(r'$\\langle C\\rangle$')\n",
    "cbar.ax.xaxis.set_ticks_position('bottom')\n",
    "cbar.ax.xaxis.set_label_position('top')\n",
    "\n",
    "# X coordinate plot\n",
    "p = axs[1].plot(iterations, w1_coordinates, '-o', markersize=8, color='forestgreen')\n",
    "x_ticks = np.linspace(0,len(w1_coordinates),5,dtype='int')\n",
    "axs[1].plot(iterations[mins], w1_coordinates[mins], '-*', color='darkorange', markersize=12, markeredgecolor='black', markeredgewidth=0.5, label = 'Current best')\n",
    "axs[1].set_xticks(x_ticks)\n",
    "axs[1].set_xticklabels([str('') for x in x_ticks])\n",
    "axs[1].set_ylabel(\"$w_1$ ($\\pi$ rads)\")\n",
    "axs[1].set_yticks(np.linspace(0,360,3))\n",
    "axs[1].set_yticklabels(np.linspace(0,2,3))\n",
    "axs[1].text(0.97, 5.9, r'(a)',horizontalalignment='right',verticalalignment='top',transform = axs[1].transAxes)\n",
    "axs[1].text(0.97, 0.9, r'(b)',horizontalalignment='right',verticalalignment='top',transform = axs[1].transAxes)\n",
    "axs[1].legend(bbox_to_anchor=(1,1.4), frameon=False)\n",
    "\n",
    "# Y coordinate plot\n",
    "p = axs[2].plot(iterations, w2_coordinates, '-o', markersize=8,  color='forestgreen')\n",
    "axs[2].plot(iterations[mins], w2_coordinates[mins], '-*', color='darkorange', markersize=12, markeredgecolor='black', markeredgewidth=0.5, label = 'Current best')\n",
    "axs[2].set_xticks(x_ticks)\n",
    "axs[2].set_xticklabels([str('') for x in x_ticks])\n",
    "axs[2].set_ylabel(\"$w_2$ ($\\pi$ rads)\")\n",
    "axs[2].set_yticks(np.linspace(0,360,3))\n",
    "axs[2].set_yticklabels(np.linspace(0,2,3))\n",
    "axs[2].text(0.97, 0.9, r'(c)',horizontalalignment='right',verticalalignment='top',transform = axs[2].transAxes)\n",
    "\n",
    "# Z coordinate plot\n",
    "p = axs[3].plot(iterations, b_coordinates, '-o', markersize=8, color='forestgreen')\n",
    "axs[3].plot(iterations[mins], b_coordinates[mins], '-*', color='darkorange', markersize=12, markeredgecolor='black', markeredgewidth=0.5, label = 'Current best')\n",
    "axs[3].set_xticks(x_ticks)\n",
    "axs[3].set_xticklabels([str('') for x in x_ticks])\n",
    "axs[3].set_ylabel(\"$b$ ($\\pi$ rads)\")\n",
    "axs[3].set_yticks(np.linspace(0,360,3))\n",
    "axs[3].set_yticklabels(np.linspace(0,2,3))\n",
    "axs[3].text(0.97, 0.9, r'(d)',horizontalalignment='right',verticalalignment='top',transform = axs[3].transAxes)\n",
    "\n",
    "# Cost function value plot\n",
    "p = axs[4].plot(iterations, cost_function_values, '-o', markersize=8, color='royalblue')\n",
    "axs[4].plot(iterations[mins], cost_function_values[mins], '-*', color='darkorange', markersize=12, markeredgecolor='black', markeredgewidth=0.5, label = 'Current best')\n",
    "axs[4].set_xlabel(\"Iterations\")\n",
    "axs[4].set_xticks(x_ticks)\n",
    "axs[4].set_ylabel(r\"$\\langle C\\rangle$\")\n",
    "axs[4].set_yticks(np.linspace(0,1,3))\n",
    "axs[4].text(0.97, 0.9, r'(e)',horizontalalignment='right',verticalalignment='top',transform = axs[4].transAxes)\n",
    "\n",
    "plt.savefig(fname=f'Figure_5.pdf', bbox_inches = 'tight')"
   ]
  },
  {
   "cell_type": "code",
   "execution_count": null,
   "metadata": {},
   "outputs": [],
   "source": []
  }
 ],
 "metadata": {
  "kernelspec": {
   "display_name": "Python 3",
   "language": "python",
   "name": "python3"
  },
  "language_info": {
   "codemirror_mode": {
    "name": "ipython",
    "version": 3
   },
   "file_extension": ".py",
   "mimetype": "text/x-python",
   "name": "python",
   "nbconvert_exporter": "python",
   "pygments_lexer": "ipython3",
   "version": "3.9.15"
  },
  "toc": {
   "base_numbering": 1,
   "nav_menu": {},
   "number_sections": true,
   "sideBar": true,
   "skip_h1_title": false,
   "title_cell": "Table of Contents",
   "title_sidebar": "Contents",
   "toc_cell": false,
   "toc_position": {},
   "toc_section_display": true,
   "toc_window_display": false
  },
  "varInspector": {
   "cols": {
    "lenName": 16,
    "lenType": 16,
    "lenVar": 40
   },
   "kernels_config": {
    "python": {
     "delete_cmd_postfix": "",
     "delete_cmd_prefix": "del ",
     "library": "var_list.py",
     "varRefreshCmd": "print(var_dic_list())"
    },
    "r": {
     "delete_cmd_postfix": ") ",
     "delete_cmd_prefix": "rm(",
     "library": "var_list.r",
     "varRefreshCmd": "cat(var_dic_list()) "
    }
   },
   "types_to_exclude": [
    "module",
    "function",
    "builtin_function_or_method",
    "instance",
    "_Feature"
   ],
   "window_display": false
  }
 },
 "nbformat": 4,
 "nbformat_minor": 4
}
