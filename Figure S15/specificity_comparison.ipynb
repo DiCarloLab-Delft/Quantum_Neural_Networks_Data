{
 "cells": [
  {
   "cell_type": "markdown",
   "metadata": {},
   "source": [
    "# Figure S15: Specificity matrices obtained for various experimental and simulation settings"
   ]
  },
  {
   "cell_type": "code",
   "execution_count": null,
   "metadata": {},
   "outputs": [],
   "source": [
    "from mpl_toolkits.axes_grid1 import make_axes_locatable\n",
    "import matplotlib.pyplot as plt\n",
    "import numpy as np"
   ]
  },
  {
   "cell_type": "code",
   "execution_count": null,
   "metadata": {},
   "outputs": [],
   "source": [
    "# Load simulation data (noiseless case, with IQS and 100 samples)\n",
    "filename = '../Data/Figure S15/noiseless_simulations.npy'\n",
    "with open(filename, 'rb') as f:\n",
    "    cost_post_simulation = np.load(f)\n",
    "\n",
    "# Load simulation data (noisy case)\n",
    "filename = '../Data/Figure S15/noisy_simulations.npy'\n",
    "with open(filename, 'rb') as f:\n",
    "    cost_post_noisy_simulation = np.load(f)\n",
    "\n",
    "learned_functions = np.load('../Data/Figure S15/learned_functions.npy')\n",
    "weight_combinations_learned = np.load('../Data/Figure S15/weight_combinations_learned.npy')\n",
    "weight_combinations_expected = np.load('../Data/Figure S15/weight_combinations_expected.npy')\n",
    "cost_function_values = np.load('../Data/Figure S15/cost_function_values.npy')\n",
    "cost_post_selected = np.load('../Data/Figure S15/cost_post_selected.npy')"
   ]
  },
  {
   "cell_type": "code",
   "execution_count": null,
   "metadata": {
    "ExecuteTime": {
     "end_time": "2021-04-21T08:57:35.835948Z",
     "start_time": "2021-04-21T08:57:34.317948Z"
    },
    "tags": []
   },
   "outputs": [],
   "source": [
    "weight_combinations_learned = np.deg2rad(weight_combinations_learned)/np.pi\n",
    "weight_combinations_expected = np.deg2rad(weight_combinations_expected)/np.pi\n",
    "\n",
    "fig = plt.figure(figsize=(20,20), dpi=600)\n",
    "plt.rcParams.update({'font.size': 16})\n",
    "plt.subplots_adjust(wspace=0, hspace=0.05)\n",
    "axs = [fig.add_subplot(221), fig.add_subplot(222),\n",
    "       fig.add_subplot(223), fig.add_subplot(224),]\n",
    "    \n",
    "pos = axs[0].imshow(cost_post_simulation.T, origin='lower', cmap='terrain', vmin=0, vmax=1)#, interpolation='quadric')\n",
    "axs[0].set_title(r'(a) Noiseless simulation', y=1.02)\n",
    "axs[0].set_xticks(np.arange(0,16,1))\n",
    "axs[0].set_yticklabels(learned_functions, rotation = 45, ha=\"right\")\n",
    "axs[0].set_ylabel(\"Oracle function\")\n",
    "axs[0].set_yticks(np.arange(0,16,1))\n",
    "axs[0].set_xticklabels(['' for weight in weight_combinations_expected])\n",
    "axs[0].tick_params(axis=\"x\")\n",
    "divider = make_axes_locatable(axs[0])\n",
    "cax = divider.new_vertical(size = '3%', pad = 0.5)\n",
    "cbax = fig.add_axes([0.365, 0.9, 0.295, 0.0099])\n",
    "cbar = fig.colorbar(pos, ticks=[0,0.25,0.5,0.75,1], cax=cbax, fraction=0.03, orientation=\"horizontal\")\n",
    "cbar.set_label(r'$\\langle C\\rangle$')\n",
    "cbar.ax.xaxis.set_ticks_position('bottom')\n",
    "cbar.ax.xaxis.set_label_position('top')\n",
    "\n",
    "pos = axs[1].imshow(cost_post_noisy_simulation.T, origin='lower', cmap='terrain', vmin=0, vmax=1)#, interpolation='quadric')\n",
    "axs[1].set_title(r'(b) Noisy simulation', y=1.02)\n",
    "axs[1].set_xticks(np.arange(0,16,1))\n",
    "axs[1].set_yticklabels('' for i in learned_functions)\n",
    "axs[1].set_yticks(np.arange(0,16,1))\n",
    "axs[1].tick_params(axis=\"x\")\n",
    "divider = make_axes_locatable(axs[1])\n",
    "cax = divider.new_vertical(size = '3%', pad = 0.5)\n",
    "\n",
    "pos = axs[2].imshow(cost_function_values.T, origin='lower', cmap='terrain', vmin=0, vmax=1)#, interpolation='quadric')\n",
    "axs[2].set_title(r'(c) Experimental results', y=1.02)\n",
    "axs[2].set_xlabel(\"Function learned in training\")\n",
    "axs[2].set_xticks(np.arange(0,16,1))\n",
    "axs[2].set_yticklabels(learned_functions, rotation = 45, ha=\"right\")\n",
    "axs[2].set_ylabel(\"Oracle function\")\n",
    "axs[2].set_yticks(np.arange(0,16,1))\n",
    "axs[2].set_xticklabels(learned_functions, rotation = 45, ha=\"right\")\n",
    "axs[2].tick_params(axis=\"x\")\n",
    "divider = make_axes_locatable(axs[2])\n",
    "cax = divider.new_vertical(size = '3%', pad = 0.5)\n",
    "\n",
    "pos = axs[3].imshow(cost_post_selected.T, origin='lower', cmap='terrain', vmin=0, vmax=1)#, interpolation='quadric')\n",
    "axs[3].set_title(r'(d) Post-selected experimental results', y=1.02)\n",
    "axs[3].set_xlabel(\"Function learned in training\")\n",
    "axs[3].set_xticks(np.arange(0,16,1))\n",
    "axs[3].set_yticklabels('' for i in learned_functions)\n",
    "axs[3].set_yticks(np.arange(0,16,1))\n",
    "axs[3].set_xticklabels(learned_functions, rotation = 45, ha=\"right\")\n",
    "axs[3].tick_params(axis=\"x\")\n",
    "divider = make_axes_locatable(axs[3])\n",
    "cax = divider.new_vertical(size = '3%', pad = 0.5)\n",
    "\n",
    "plt.savefig(fname=f'Figure_S15.pdf', bbox_inches = 'tight')"
   ]
  },
  {
   "cell_type": "code",
   "execution_count": null,
   "metadata": {},
   "outputs": [],
   "source": []
  }
 ],
 "metadata": {
  "kernelspec": {
   "display_name": "Python 3",
   "language": "python",
   "name": "python3"
  },
  "language_info": {
   "codemirror_mode": {
    "name": "ipython",
    "version": 3
   },
   "file_extension": ".py",
   "mimetype": "text/x-python",
   "name": "python",
   "nbconvert_exporter": "python",
   "pygments_lexer": "ipython3",
   "version": "3.9.15"
  },
  "toc": {
   "base_numbering": 1,
   "nav_menu": {},
   "number_sections": true,
   "sideBar": true,
   "skip_h1_title": false,
   "title_cell": "Table of Contents",
   "title_sidebar": "Contents",
   "toc_cell": false,
   "toc_position": {},
   "toc_section_display": true,
   "toc_window_display": false
  },
  "varInspector": {
   "cols": {
    "lenName": 16,
    "lenType": 16,
    "lenVar": 40
   },
   "kernels_config": {
    "python": {
     "delete_cmd_postfix": "",
     "delete_cmd_prefix": "del ",
     "library": "var_list.py",
     "varRefreshCmd": "print(var_dic_list())"
    },
    "r": {
     "delete_cmd_postfix": ") ",
     "delete_cmd_prefix": "rm(",
     "library": "var_list.r",
     "varRefreshCmd": "cat(var_dic_list()) "
    }
   },
   "types_to_exclude": [
    "module",
    "function",
    "builtin_function_or_method",
    "instance",
    "_Feature"
   ],
   "window_display": false
  }
 },
 "nbformat": 4,
 "nbformat_minor": 4
}
