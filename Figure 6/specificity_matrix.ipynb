{
 "cells": [
  {
   "cell_type": "markdown",
   "metadata": {},
   "source": [
    "# Figure 6: Specificity matrix of learned weights for all 2-to-1 bit boolean functionsimport matplotlib.pyplot as plt"
   ]
  },
  {
   "cell_type": "code",
   "execution_count": null,
   "metadata": {},
   "outputs": [],
   "source": [
    "from mpl_toolkits.axes_grid1 import make_axes_locatable\n",
    "import matplotlib.pyplot as plt\n",
    "import numpy as np"
   ]
  },
  {
   "cell_type": "code",
   "execution_count": null,
   "metadata": {},
   "outputs": [],
   "source": [
    "learned_functions = np.load('../Data/Figure 6/learned_functions.npy')\n",
    "weight_combinations = np.load('../Data/Figure 6/weight_combinations.npy')\n",
    "cost_function_values = np.load('../Data/Figure 6/cost_function_values.npy')"
   ]
  },
  {
   "cell_type": "code",
   "execution_count": null,
   "metadata": {
    "ExecuteTime": {
     "end_time": "2021-04-21T08:57:35.835948Z",
     "start_time": "2021-04-21T08:57:34.317948Z"
    },
    "tags": []
   },
   "outputs": [],
   "source": [
    "weight_combinations = np.deg2rad(weight_combinations)/np.pi\n",
    "\n",
    "fig = plt.figure(figsize=(10,10), dpi=600)\n",
    "plt.rcParams.update({'font.size': 18})\n",
    "ax = [fig.add_subplot(111)]\n",
    "    \n",
    "pos = ax[0].imshow(cost_function_values.T, origin='lower', cmap='terrain', vmin=0, vmax=1)#, interpolation='quadric')\n",
    "ax[0].set_xlabel(\"Function learned in training\")\n",
    "ax[0].set_xticks(np.arange(0,16,1))\n",
    "ax[0].set_yticklabels(learned_functions, rotation = 45, ha=\"right\")\n",
    "ax[0].set_ylabel(\"Oracle function\")\n",
    "ax[0].set_yticks(np.arange(0,16,1))\n",
    "ax[0].set_xticklabels(learned_functions, rotation = 45, ha=\"right\")\n",
    "ax[0].tick_params(axis=\"x\")\n",
    "    \n",
    "divider = make_axes_locatable(ax[0])\n",
    "cax = divider.new_vertical(size = '3%', pad = 0.5)\n",
    "fig.add_axes(cax)\n",
    "cbar = fig.colorbar(pos, ticks=[0,0.25,0.5,0.75,1], cax = cax, orientation = 'horizontal')\n",
    "cbar.set_label(r'$\\langle C\\rangle$')\n",
    "cbar.ax.xaxis.set_ticks_position('bottom')\n",
    "cbar.ax.xaxis.set_label_position('top')\n",
    "\n",
    "plt.savefig(fname=f'Figure_6.pdf', bbox_inches = 'tight')"
   ]
  },
  {
   "cell_type": "code",
   "execution_count": null,
   "metadata": {},
   "outputs": [],
   "source": []
  }
 ],
 "metadata": {
  "kernelspec": {
   "display_name": "Python 3",
   "language": "python",
   "name": "python3"
  },
  "language_info": {
   "codemirror_mode": {
    "name": "ipython",
    "version": 3
   },
   "file_extension": ".py",
   "mimetype": "text/x-python",
   "name": "python",
   "nbconvert_exporter": "python",
   "pygments_lexer": "ipython3",
   "version": "3.9.15"
  },
  "toc": {
   "base_numbering": 1,
   "nav_menu": {},
   "number_sections": true,
   "sideBar": true,
   "skip_h1_title": false,
   "title_cell": "Table of Contents",
   "title_sidebar": "Contents",
   "toc_cell": false,
   "toc_position": {},
   "toc_section_display": true,
   "toc_window_display": false
  },
  "varInspector": {
   "cols": {
    "lenName": 16,
    "lenType": 16,
    "lenVar": 40
   },
   "kernels_config": {
    "python": {
     "delete_cmd_postfix": "",
     "delete_cmd_prefix": "del ",
     "library": "var_list.py",
     "varRefreshCmd": "print(var_dic_list())"
    },
    "r": {
     "delete_cmd_postfix": ") ",
     "delete_cmd_prefix": "rm(",
     "library": "var_list.r",
     "varRefreshCmd": "cat(var_dic_list()) "
    }
   },
   "types_to_exclude": [
    "module",
    "function",
    "builtin_function_or_method",
    "instance",
    "_Feature"
   ],
   "window_display": false
  }
 },
 "nbformat": 4,
 "nbformat_minor": 4
}
