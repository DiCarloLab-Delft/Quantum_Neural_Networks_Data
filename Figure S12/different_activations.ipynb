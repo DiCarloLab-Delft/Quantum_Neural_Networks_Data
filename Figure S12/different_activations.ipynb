{
 "cells": [
  {
   "cell_type": "markdown",
   "metadata": {},
   "source": [
    "# Figure S12: Fitness landscapes for gearbox one-iteration and zero-iteration activation circuits"
   ]
  },
  {
   "cell_type": "code",
   "execution_count": null,
   "metadata": {},
   "outputs": [],
   "source": [
    "from mpl_toolkits.axes_grid1 import make_axes_locatable\n",
    "import matplotlib.pyplot as plt\n",
    "import matplotlib as mpl\n",
    "import numpy as np\n",
    "import math"
   ]
  },
  {
   "cell_type": "code",
   "execution_count": null,
   "metadata": {},
   "outputs": [],
   "source": [
    "cost_function_cmap = 'terrain'\n",
    "xor_once_cost = np.load('../Data/Figure S12/xor_once_cost.npy')\n",
    "xor_zero_cost = np.load('../Data/Figure S12/xor_zero_cost.npy')\n",
    "implication2_once_cost = np.load('../Data/Figure S12/implication2_once_cost.npy')\n",
    "implication2_zero_cost = np.load('../Data/Figure S12/implication2_zero_cost.npy')\n",
    "nand_once_cost = np.load('../Data/Figure S12/nand_once_cost.npy')\n",
    "nand_zero_cost = np.load('../Data/Figure S12/nand_zero_cost.npy')"
   ]
  },
  {
   "cell_type": "code",
   "execution_count": null,
   "metadata": {},
   "outputs": [],
   "source": [
    "label_xor = {'ylabel': '$w_2$ ($\\pi$ rads)', 'xlabel': '$w_1$ ($\\pi$ rads)'}\n",
    "label_nand = {'ylabel': '$w_1$ = $w_2$ ($\\pi$ rads)', 'xlabel': '$b$ ($\\pi$ rads)'}\n",
    "label_implication2 = {'ylabel': '$w_1$ = -$w_2$ ($\\pi$ rads)', 'xlabel': '$b$ ($\\pi$ rads)'}\n",
    "\n",
    "max_range = math.ceil(np.max(np.concatenate((xor_once_cost,implication2_once_cost,nand_once_cost, xor_zero_cost,implication2_zero_cost,nand_zero_cost)))*10)/10\n",
    "min_range = math.floor(np.min(np.concatenate((xor_once_cost,implication2_once_cost,nand_once_cost, xor_zero_cost,implication2_zero_cost,nand_zero_cost)))*10)/10\n",
    "\n",
    "fig = plt.figure(figsize=(10,17),dpi=600)\n",
    "plt.rcParams.update({'font.size': 16})\n",
    "plt.subplots_adjust(wspace=0.2, hspace=0.05)\n",
    "axs = [fig.add_subplot(321), fig.add_subplot(322),\n",
    "       fig.add_subplot(323), fig.add_subplot(324),\n",
    "       fig.add_subplot(325), fig.add_subplot(326)]\n",
    "\n",
    "pos = axs[0].imshow(xor_once_cost, origin='lower', cmap=cost_function_cmap, vmin=min_range, vmax=max_range)\n",
    "value = xor_once_cost.argmin()\n",
    "axs[0].set_title(r'$(a)$', x=-0.075, y=1.02)\n",
    "axs[0].scatter(value%19,value//19,color='black')\n",
    "axs[0].set_xlabel(label_xor['xlabel'])\n",
    "axs[0].set_xticks(np.arange(0,18.1,4.5))\n",
    "axs[0].set_xticklabels(np.linspace(0,2,5))\n",
    "axs[0].set_ylabel(label_xor['ylabel'])\n",
    "axs[0].set_yticks(np.arange(0,18.1,4.5))\n",
    "axs[0].set_yticklabels(np.linspace(0,2,5))\n",
    "axs[0].text(s=r'XOR', x=-0.3, y=0.5, horizontalalignment='center', verticalalignment='center', rotation = 90, transform = axs[0].transAxes)\n",
    "axs[0].text(s='Sigmoid activation\\nw/o correction', x=0.5, y=1.07, horizontalalignment='center', verticalalignment='center', transform = axs[0].transAxes)\n",
    "\n",
    "cbax = fig.add_axes([0.3375, 0.915, 0.35, 0.005])\n",
    "cbar = fig.colorbar(pos, cax=cbax, fraction=0.03, orientation=\"horizontal\")\n",
    "cbar.set_ticks(np.around(np.linspace(min_range,max_range,4), decimals=2))\n",
    "cbar.set_label(r'$\\langle C\\rangle$')\n",
    "cbar.ax.xaxis.set_ticks_position('bottom')\n",
    "cbar.ax.xaxis.set_label_position('top')\n",
    "\n",
    "pos = axs[1].imshow(xor_zero_cost, origin='lower', cmap=cost_function_cmap, vmin=min_range, vmax=max_range)\n",
    "value = xor_zero_cost.argmin()\n",
    "axs[1].set_title(r'$(b)$', x=-0.075, y=1.02)\n",
    "axs[1].set_xlabel(label_xor['xlabel'])\n",
    "axs[1].scatter(value%19,value//19,color='black')\n",
    "axs[1].set_xticks(np.arange(0,18.1,4.5))\n",
    "axs[1].set_xticklabels(np.linspace(0,2,5))\n",
    "axs[1].set_yticks(np.arange(0,18.1,4.5))\n",
    "axs[1].set_yticklabels('' for i in np.linspace(0,2,5))\n",
    "axs[1].text(s=r'Sinusoidal activation', x=0.5, y=1.07, horizontalalignment='center', verticalalignment='center', transform = axs[1].transAxes)\n",
    "\n",
    "pos = axs[2].imshow(implication2_once_cost, origin='lower', cmap=cost_function_cmap, vmin=min_range, vmax=max_range)\n",
    "value = implication2_once_cost.argmin()\n",
    "axs[2].set_title(r'$(c)$', x=-0.075, y=1.02)\n",
    "axs[2].scatter(value%19,value//19,color='black')\n",
    "axs[2].set_xlabel(label_implication2['xlabel'])\n",
    "axs[2].set_xticks(np.arange(0,18.1,4.5))\n",
    "axs[2].set_xticklabels(np.linspace(0,2,5))\n",
    "axs[2].set_ylabel(label_implication2['ylabel'])\n",
    "axs[2].set_yticks(np.arange(0,18.1,4.5))\n",
    "axs[2].set_yticklabels(np.linspace(0,2,5))\n",
    "axs[2].text(s=r'IMPLICATION2', x=-0.3, y=0.5, horizontalalignment='center', verticalalignment='center', rotation = 90, transform = axs[2].transAxes)\n",
    "\n",
    "pos = axs[3].imshow(implication2_zero_cost, origin='lower', cmap=cost_function_cmap, vmin=min_range, vmax=max_range)\n",
    "value = implication2_zero_cost.argmin()\n",
    "axs[3].set_title(r'$(d)$', x=-0.075, y=1.02)\n",
    "axs[3].set_xlabel(label_implication2['xlabel'])\n",
    "axs[3].scatter(value%19,value//19,color='black')\n",
    "axs[3].set_xticks(np.arange(0,18.1,4.5))\n",
    "axs[3].set_xticklabels(np.linspace(0,2,5))\n",
    "axs[3].set_yticks(np.arange(0,18.1,4.5))\n",
    "axs[3].set_yticklabels('' for i in np.linspace(0,2,5))\n",
    "\n",
    "pos = axs[4].imshow(nand_once_cost, origin='lower', cmap=cost_function_cmap, vmin=min_range, vmax=max_range)\n",
    "value = nand_once_cost.argmin()\n",
    "axs[4].set_title(r'$(e)$', x=-0.075, y=1.02)\n",
    "axs[4].scatter(value%19,value//19,color='black')\n",
    "axs[4].set_xlabel(label_nand['xlabel'])\n",
    "axs[4].set_xticks(np.arange(0,18.1,4.5))\n",
    "axs[4].set_xticklabels(np.linspace(0,2,5))\n",
    "axs[4].set_ylabel(label_nand['ylabel'])\n",
    "axs[4].set_yticks(np.arange(0,18.1,4.5))\n",
    "axs[4].set_yticklabels(np.linspace(0,2,5))\n",
    "axs[4].text(s=r'NAND', x=-0.3, y=0.5, horizontalalignment='center', verticalalignment='center', rotation = 90, transform = axs[4].transAxes)\n",
    "\n",
    "pos = axs[5].imshow(nand_zero_cost, origin='lower', cmap=cost_function_cmap, vmin=min_range, vmax=max_range)\n",
    "value = nand_zero_cost.argmin()\n",
    "axs[5].set_title(r'$(f)$', x=-0.075, y=1.02)\n",
    "axs[5].set_xlabel(label_nand['xlabel'])\n",
    "axs[5].scatter(value%19,value//19,color='black')\n",
    "axs[5].set_xticks(np.arange(0,18.1,4.5))\n",
    "axs[5].set_xticklabels(np.linspace(0,2,5))\n",
    "axs[5].set_yticks(np.arange(0,18.1,4.5))\n",
    "axs[5].set_yticklabels('' for i in np.linspace(0,2,5))\n",
    "\n",
    "plt.savefig(fname=f'Figure_S12.pdf', bbox_inches = 'tight')"
   ]
  },
  {
   "cell_type": "code",
   "execution_count": null,
   "metadata": {},
   "outputs": [],
   "source": []
  }
 ],
 "metadata": {
  "kernelspec": {
   "display_name": "Python 3",
   "language": "python",
   "name": "python3"
  },
  "language_info": {
   "codemirror_mode": {
    "name": "ipython",
    "version": 3
   },
   "file_extension": ".py",
   "mimetype": "text/x-python",
   "name": "python",
   "nbconvert_exporter": "python",
   "pygments_lexer": "ipython3",
   "version": "3.9.15"
  },
  "toc": {
   "base_numbering": 1,
   "nav_menu": {},
   "number_sections": true,
   "sideBar": true,
   "skip_h1_title": false,
   "title_cell": "Table of Contents",
   "title_sidebar": "Contents",
   "toc_cell": false,
   "toc_position": {},
   "toc_section_display": true,
   "toc_window_display": false
  },
  "varInspector": {
   "cols": {
    "lenName": 16,
    "lenType": 16,
    "lenVar": 40
   },
   "kernels_config": {
    "python": {
     "delete_cmd_postfix": "",
     "delete_cmd_prefix": "del ",
     "library": "var_list.py",
     "varRefreshCmd": "print(var_dic_list())"
    },
    "r": {
     "delete_cmd_postfix": ") ",
     "delete_cmd_prefix": "rm(",
     "library": "var_list.r",
     "varRefreshCmd": "cat(var_dic_list()) "
    }
   },
   "types_to_exclude": [
    "module",
    "function",
    "builtin_function_or_method",
    "instance",
    "_Feature"
   ],
   "window_display": false
  }
 },
 "nbformat": 4,
 "nbformat_minor": 4
}
