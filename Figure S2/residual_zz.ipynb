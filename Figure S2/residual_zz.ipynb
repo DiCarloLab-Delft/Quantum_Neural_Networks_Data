{
 "cells": [
  {
   "cell_type": "markdown",
   "metadata": {},
   "source": [
    "# Figure S2: Residual-ZZ Crosstalk Matrix"
   ]
  },
  {
   "cell_type": "code",
   "execution_count": null,
   "metadata": {},
   "outputs": [],
   "source": [
    "from mpl_toolkits.axes_grid1.inset_locator import inset_axes\n",
    "from matplotlib.patches import Rectangle\n",
    "import matplotlib.pyplot as plt\n",
    "import numpy as np"
   ]
  },
  {
   "cell_type": "code",
   "execution_count": null,
   "metadata": {},
   "outputs": [],
   "source": [
    "zz_matrix = np.load('../Data/Figure S2/zz_matrix.npy')\n",
    "\n",
    "fig, ax = plt.subplots(figsize=(5,5), dpi=600)\n",
    "plt.rcParams.update({'font.size': 18})\n",
    "im = ax.imshow(zz_matrix, cmap=plt.cm.Reds_r, vmin=-1000, vmax=0)\n",
    "for i in range(4):\n",
    "    rect = Rectangle((-.5+i,-.5+i), 1, 1, facecolor='white')\n",
    "    ax.add_patch(rect)\n",
    "\n",
    "ax.set_xticks(np.arange(4))\n",
    "ax.set_yticks(np.arange(4))\n",
    "ax.set_xticklabels([ '$\\mathrm{Q_A}$', '$\\mathrm{Q_O}$', '$\\mathrm{Q_{I1}}$', '$\\mathrm{Q_{I2}}$'])\n",
    "ax.set_yticklabels([ '$\\mathrm{Q_A}$', '$\\mathrm{Q_O}$', '$\\mathrm{Q_{I1}}$', '$\\mathrm{Q_{I2}}$'])\n",
    "\n",
    "for i in range(4):\n",
    "    for j in range(4):\n",
    "        if i == j:\n",
    "            ax.text(i, j, '-', va='center', ha='center')\n",
    "        else:\n",
    "            c = zz_matrix[j,i]\n",
    "            if c < -1400:\n",
    "                ax.text(i, j, '{:.0f}'.format(c), va='center', ha='center', color = 'white')\n",
    "            else:\n",
    "                ax.text(i, j, '{:.0f}'.format(c), va='center', ha='center')\n",
    "\n",
    "axins = inset_axes(ax, width=\"3%\", height=\"70%\", loc='center left', \n",
    "                   bbox_to_anchor=(1.05, 0., 1, 1), bbox_transform=ax.transAxes, borderpad=0)\n",
    "cb = fig.colorbar(im, cax=axins)\n",
    "ax.set_xlabel('Spectator qubit')\n",
    "ax.set_ylabel('Target qubit')\n",
    "cb.set_label('Frequency shift (kHz)', rotation=90, labelpad=10)\n",
    "fig.patch.set_visible(False)\n",
    "\n",
    "plt.savefig(fname=f'Figure_S2.pdf', bbox_inches = 'tight')"
   ]
  },
  {
   "cell_type": "code",
   "execution_count": null,
   "metadata": {},
   "outputs": [],
   "source": []
  }
 ],
 "metadata": {
  "kernelspec": {
   "display_name": "Python 3",
   "language": "python",
   "name": "python3"
  },
  "language_info": {
   "codemirror_mode": {
    "name": "ipython",
    "version": 3
   },
   "file_extension": ".py",
   "mimetype": "text/x-python",
   "name": "python",
   "nbconvert_exporter": "python",
   "pygments_lexer": "ipython3",
   "version": "3.9.15"
  }
 },
 "nbformat": 4,
 "nbformat_minor": 4
}
