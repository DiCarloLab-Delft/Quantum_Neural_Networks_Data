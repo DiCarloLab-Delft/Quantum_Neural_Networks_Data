{
 "cells": [
  {
   "cell_type": "markdown",
   "metadata": {},
   "source": [
    "# Figure S8: Characterization of correction pulse"
   ]
  },
  {
   "cell_type": "code",
   "execution_count": null,
   "metadata": {
    "ExecuteTime": {
     "end_time": "2021-04-14T06:59:31.683943Z",
     "start_time": "2021-04-14T06:59:05.987943Z"
    }
   },
   "outputs": [],
   "source": [
    "from matplotlib.colors import to_rgba\n",
    "import matplotlib.pyplot as plt\n",
    "import numpy as np"
   ]
  },
  {
   "cell_type": "code",
   "execution_count": null,
   "metadata": {},
   "outputs": [],
   "source": [
    "pauli_z = np.load('../Data/Figure S8/pauli_z.npy')\n",
    "pauli_x = np.load('../Data/Figure S8/pauli_x.npy')\n",
    "pauli_y = np.load('../Data/Figure S8/pauli_y.npy')"
   ]
  },
  {
   "cell_type": "code",
   "execution_count": null,
   "metadata": {},
   "outputs": [],
   "source": [
    "FONT_SIZE = 18\n",
    "\n",
    "r = np.sqrt(pauli_y**2+pauli_x**2)\n",
    "phi = np.mod(np.arctan2(pauli_y, pauli_x), 2*np.pi)\n",
    "r_m = np.sqrt(pauli_z**2+pauli_x**2)\n",
    "phi_m = np.mod(np.arctan2(pauli_z, pauli_x), 2*np.pi)\n",
    "r_y = np.sqrt(pauli_z**2+pauli_y**2)\n",
    "phi_y = np.mod(np.arctan2(pauli_z, pauli_y), 2*np.pi)\n",
    "purity = 0.5*(1+np.sqrt(pauli_x**2+pauli_y**2+pauli_z**2)**2)\n",
    "\n",
    "fig = plt.figure(figsize=(10,7), dpi=600)\n",
    "plt.rcParams.update({'font.size': 12, 'mathtext.default':  'regular' })\n",
    "plt.subplots_adjust(hspace=0.7, wspace=0.5)\n",
    "axs = [fig.add_subplot(211),\n",
    "       fig.add_subplot(234, projection='polar'),\n",
    "       fig.add_subplot(235, projection='polar'),\n",
    "       fig.add_subplot(236, projection='polar')]\n",
    "fig.patch.set_alpha(0)\n",
    "\n",
    "axs[0].bar([0,1,2], [pauli_x, pauli_y, pauli_z], ls='--', ec='k', fc=to_rgba('tab:red', alpha=1))\n",
    "axs[0].set_ylim(-1.1, 1.1)\n",
    "axs[0].set_ylabel(r'$\\langle P\\rangle$', labelpad=-.5, fontsize=FONT_SIZE)\n",
    "axs[0].set_xlim(-.5, 2.5)\n",
    "axs[0].set_xticks([0,1,2])\n",
    "axs[0].set_xticklabels(['','', ''])\n",
    "axs[0].text(-.4, .75, f'Purity: {purity:.2f}', fontsize=FONT_SIZE)\n",
    "axs[0].set_xticklabels([r'$X_\\mathrm{O}$', r'$Y_\\mathrm{O}$', r'$Z_\\mathrm{O}$'], fontsize=FONT_SIZE)\n",
    "axs[0].set_title('State qubit $Q_{O}$ on circuit failure', fontsize=FONT_SIZE)\n",
    "axs[0].text(s = '(a)', x = -0.1 , y = 1.1, fontsize=FONT_SIZE, rotation=0, transform = axs[0].transAxes)\n",
    "axs[0].text(s = 'Pauli operator P', x = 0.5 , y = -0.275, fontsize=FONT_SIZE, horizontalalignment='center', verticalalignment='center', transform = axs[0].transAxes)\n",
    "\n",
    "axs[1].set_rlim(0, 1)\n",
    "axs[1].set_rticks(np.linspace(0,1,3))\n",
    "axs[1].plot([0, phi], [0, r], 'C0--', color='tab:red', alpha=.5, lw=1)\n",
    "axs[1].plot([phi], [r], 'C0o', color='tab:red', )\n",
    "axs[1].set_title('XoY plane', fontsize=FONT_SIZE)\n",
    "axs[1].text(s = '(b)', x = -0.2 , y = 1.05, fontsize=FONT_SIZE, rotation=0, transform = axs[1].transAxes)\n",
    "\n",
    "axs[2].set_rlim(0, 1)\n",
    "axs[2].set_rticks(np.linspace(0,1,3))\n",
    "axs[2].plot([0, phi_m], [0, r_m], 'C0--', color='tab:red', alpha=.5, lw=1)\n",
    "axs[2].plot([phi_m], [r_m], 'C0o', color='tab:red', label=r'State $Q_{O}$')\n",
    "axs[2].set_title('XoZ plane', fontsize=FONT_SIZE)\n",
    "axs[2].legend(frameon=False, fontsize=FONT_SIZE, bbox_to_anchor=(1,-0.1))\n",
    "axs[2].text(s = '(c)', x = -0.2 , y = 1.05, fontsize=FONT_SIZE, rotation=0, transform = axs[2].transAxes)\n",
    "\n",
    "axs[3].set_rlim(0, 1)\n",
    "axs[3].set_rticks(np.linspace(0,1,3))\n",
    "axs[3].plot([0, phi_y], [0, r_y], 'C0--', color='tab:red', alpha=.5, lw=1)\n",
    "axs[3].plot([phi_y], [r_y], 'C0o', color='tab:red',)\n",
    "axs[3].set_title('YoZ plane', fontsize=FONT_SIZE)\n",
    "axs[3].text(s = '(d)', x = -0.2 , y = 1.05, fontsize=FONT_SIZE, rotation=0, transform = axs[3].transAxes)\n",
    "\n",
    "plt.savefig(fname=f'Figure_S8.pdf', bbox_inches = 'tight')"
   ]
  },
  {
   "cell_type": "code",
   "execution_count": null,
   "metadata": {},
   "outputs": [],
   "source": []
  }
 ],
 "metadata": {
  "kernelspec": {
   "display_name": "Python 3",
   "language": "python",
   "name": "python3"
  },
  "language_info": {
   "codemirror_mode": {
    "name": "ipython",
    "version": 3
   },
   "file_extension": ".py",
   "mimetype": "text/x-python",
   "name": "python",
   "nbconvert_exporter": "python",
   "pygments_lexer": "ipython3",
   "version": "3.9.15"
  },
  "toc": {
   "base_numbering": 1,
   "nav_menu": {},
   "number_sections": true,
   "sideBar": true,
   "skip_h1_title": false,
   "title_cell": "Table of Contents",
   "title_sidebar": "Contents",
   "toc_cell": false,
   "toc_position": {},
   "toc_section_display": true,
   "toc_window_display": false
  },
  "varInspector": {
   "cols": {
    "lenName": 16,
    "lenType": 16,
    "lenVar": 40
   },
   "kernels_config": {
    "python": {
     "delete_cmd_postfix": "",
     "delete_cmd_prefix": "del ",
     "library": "var_list.py",
     "varRefreshCmd": "print(var_dic_list())"
    },
    "r": {
     "delete_cmd_postfix": ") ",
     "delete_cmd_prefix": "rm(",
     "library": "var_list.r",
     "varRefreshCmd": "cat(var_dic_list()) "
    }
   },
   "types_to_exclude": [
    "module",
    "function",
    "builtin_function_or_method",
    "instance",
    "_Feature"
   ],
   "window_display": false
  }
 },
 "nbformat": 4,
 "nbformat_minor": 4
}
