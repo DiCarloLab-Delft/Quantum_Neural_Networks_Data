{
 "cells": [
  {
   "cell_type": "markdown",
   "metadata": {},
   "source": [
    "# Figure S5: Fine calibration of microwave rotations"
   ]
  },
  {
   "cell_type": "code",
   "execution_count": null,
   "metadata": {
    "ExecuteTime": {
     "end_time": "2021-04-14T06:59:31.683943Z",
     "start_time": "2021-04-14T06:59:05.987943Z"
    }
   },
   "outputs": [],
   "source": [
    "from matplotlib.colors import to_rgba\n",
    "import matplotlib.pyplot as plt\n",
    "import numpy as np"
   ]
  },
  {
   "cell_type": "code",
   "execution_count": null,
   "metadata": {},
   "outputs": [],
   "source": [
    "microwave_measured_angles = np.load('../Data/Figure S5/microwave_measured_angles.npy')\n",
    "microwave_measured_values = np.load('../Data/Figure S5/microwave_measured_values.npy')\n",
    "microwave_fit = np.load('../Data/Figure S5/microwave_fit.npy')\n",
    "microwave_expected = np.load('../Data/Figure S5/microwave_expected.npy')\n",
    "effective_rotation = np.load('../Data/Figure S5/effective_rotation.npy')\n",
    "effective_expected = np.load('../Data/Figure S5/effective_expected.npy')"
   ]
  },
  {
   "cell_type": "code",
   "execution_count": null,
   "metadata": {},
   "outputs": [],
   "source": [
    "fig = plt.figure(figsize=(7,7), dpi=600)\n",
    "plt.rcParams.update({'font.size': 18})\n",
    "plt.subplots_adjust(hspace=0.2)\n",
    "ax = [fig.add_subplot(111)]\n",
    "\n",
    "lns1 = ax[0].plot(microwave_measured_angles, microwave_measured_values, color='blue', label='Raw data')\n",
    "lns2 = ax[0].plot(np.linspace(-180,180,1000), microwave_fit, color='red', label='Smooth fit')\n",
    "lns4 = ax[0].plot(np.linspace(-180,180,1000), microwave_expected, color='gray', linestyle='--', label='Ideal')\n",
    "ax[0].set_xlabel('Input rotation angle ($\\pi$ rads)')\n",
    "ax[0].set_ylabel(r'$\\langle Z\\rangle$')\n",
    "ax[0].set_yticks(np.arange(-1,1.1,0.5))\n",
    "ax[0].set_xticks(np.arange(-180,180.1,90))\n",
    "ax[0].set_xticklabels(np.linspace(-1,1,5))\n",
    "ax[0].annotate(s='', xy=(-180,0), xytext=(-110,0), arrowprops=dict(arrowstyle='->', lw=2, color='k'))\n",
    "\n",
    "ax2=ax[0].twinx()\n",
    "lns3 = ax2.plot(np.arange(180,-180,-1), effective_rotation, color='green', label='Extracted')\n",
    "ax2.plot(np.arange(180,-180,-1), effective_expected, linestyle='--', color='gray')\n",
    "ax2.set_xlabel('Requested rotation angle')\n",
    "ax2.set_ylabel('Effective rotation angle ($\\pi$ rads)')\n",
    "ax2.set_yticks(np.arange(-180,180.1,90))\n",
    "ax2.set_yticklabels(np.linspace(-1,1,5))\n",
    "ax2.annotate(s='', xy=(180,120), xytext=(150,120), arrowprops=dict(arrowstyle='->', lw=2, color='k'))\n",
    "\n",
    "lns = lns1+lns2+lns3+lns4\n",
    "labs = [l.get_label() for l in lns]\n",
    "ax[0].legend(lns, labs, frameon=False)\n",
    "\n",
    "plt.savefig(fname=f'Figure_S5.pdf', bbox_inches = 'tight')"
   ]
  },
  {
   "cell_type": "code",
   "execution_count": null,
   "metadata": {},
   "outputs": [],
   "source": []
  }
 ],
 "metadata": {
  "kernelspec": {
   "display_name": "Python 3",
   "language": "python",
   "name": "python3"
  },
  "language_info": {
   "codemirror_mode": {
    "name": "ipython",
    "version": 3
   },
   "file_extension": ".py",
   "mimetype": "text/x-python",
   "name": "python",
   "nbconvert_exporter": "python",
   "pygments_lexer": "ipython3",
   "version": "3.9.15"
  },
  "toc": {
   "base_numbering": 1,
   "nav_menu": {},
   "number_sections": true,
   "sideBar": true,
   "skip_h1_title": false,
   "title_cell": "Table of Contents",
   "title_sidebar": "Contents",
   "toc_cell": false,
   "toc_position": {},
   "toc_section_display": true,
   "toc_window_display": false
  },
  "varInspector": {
   "cols": {
    "lenName": 16,
    "lenType": 16,
    "lenVar": 40
   },
   "kernels_config": {
    "python": {
     "delete_cmd_postfix": "",
     "delete_cmd_prefix": "del ",
     "library": "var_list.py",
     "varRefreshCmd": "print(var_dic_list())"
    },
    "r": {
     "delete_cmd_postfix": ") ",
     "delete_cmd_prefix": "rm(",
     "library": "var_list.r",
     "varRefreshCmd": "cat(var_dic_list()) "
    }
   },
   "types_to_exclude": [
    "module",
    "function",
    "builtin_function_or_method",
    "instance",
    "_Feature"
   ],
   "window_display": false
  }
 },
 "nbformat": 4,
 "nbformat_minor": 4
}
