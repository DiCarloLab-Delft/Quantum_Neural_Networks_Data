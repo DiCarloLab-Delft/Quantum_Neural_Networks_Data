{
 "cells": [
  {
   "cell_type": "markdown",
   "metadata": {},
   "source": [
    "# Figure S10: Additional statistics of function specificity"
   ]
  },
  {
   "cell_type": "code",
   "execution_count": null,
   "metadata": {
    "ExecuteTime": {
     "end_time": "2021-04-14T06:59:31.683943Z",
     "start_time": "2021-04-14T06:59:05.987943Z"
    }
   },
   "outputs": [],
   "source": [
    "import matplotlib.pyplot as plt\n",
    "from matplotlib import gridspec\n",
    "import matplotlib.colors\n",
    "import numpy as np"
   ]
  },
  {
   "cell_type": "code",
   "execution_count": null,
   "metadata": {},
   "outputs": [],
   "source": [
    "num_samples_in_avg = 8000\n",
    "\n",
    "# Load data from noiseless simulations.\n",
    "filename = '../Data/Figure S10/noiseless_simulations.npy'\n",
    "with open(filename, 'rb') as f:\n",
    "    cost_function_ideal_sim = np.load(f)\n",
    "    rounds_to_success_ideal_sim = np.load(f)\n",
    "    var_cost_function_ideal_sim = np.load(f)\n",
    "    var_rounds_to_success_ideal_sim = np.load(f)\n",
    "\n",
    "# Load data from noisy simulations.\n",
    "filename = '../Data/Figure S10/noisy_simulations.npy'\n",
    "with open(filename, 'rb') as f:\n",
    "    cost_function_noisy_sim = np.load(f)\n",
    "    rounds_to_success_noisy_sim = np.load(f)\n",
    "    var_cost_function_noisy_sim = np.load(f)\n",
    "    var_rounds_to_success_noisy_sim = np.load(f)\n",
    "    \n",
    "cost_function_diagonal = np.load('../Data/Figure S10/cost_function_diagonal.npy')\n",
    "rounds_to_success_diagonal = np.load('../Data/Figure S10/rounds_to_success_diagonal.npy')\n",
    "function_labels = np.load('../Data/Figure S10/function_labels.npy')"
   ]
  },
  {
   "cell_type": "code",
   "execution_count": null,
   "metadata": {},
   "outputs": [],
   "source": [
    "fig = plt.figure(figsize=(10,8), dpi=600)\n",
    "plt.rcParams.update({'font.size': 20})\n",
    "plt.subplots_adjust(hspace = 0.1)\n",
    "spec = gridspec.GridSpec(ncols=1, nrows=2)#, height_ratios=[1.5,1])\n",
    "ax = [fig.add_subplot(spec[0]), fig.add_subplot(spec[1])]\n",
    "\n",
    "ax[0].errorbar(capsize=4, x=np.arange(0,16,1), y=cost_function_ideal_sim,\n",
    "               yerr=np.sqrt(var_cost_function_ideal_sim/num_samples_in_avg),\n",
    "               fmt='o-', color='g', label='Noiseless simulation')\n",
    "ax[0].errorbar(capsize=4, x=np.arange(0,16,1), y=cost_function_noisy_sim,\n",
    "               yerr=np.sqrt(var_cost_function_noisy_sim/num_samples_in_avg),\n",
    "               fmt='o-', color='b', label='Noisy simulation')\n",
    "ax[0].errorbar(capsize=4, x=np.arange(0,16,1), y=np.average(cost_function_diagonal, axis=1),\n",
    "               yerr=np.std(cost_function_diagonal, axis=1),\n",
    "               fmt='o-', color='r', label='Experiment')\n",
    "ax[0].set_xlabel('')\n",
    "ax[0].set_ylabel(r'$\\langle C\\rangle$')\n",
    "ax[0].set_xticks(np.arange(0,16,1))\n",
    "ax[0].set_yticks(np.linspace(0,0.5,3))\n",
    "ax[0].set_xticklabels('', rotation = 45, ha=\"right\")\n",
    "ax[0].text(0.945, 0.9, r'(a)', transform = ax[0].transAxes)\n",
    "ax[0].set_ylim([-0.025,0.525])\n",
    "\n",
    "ax[1].errorbar(capsize=4, x=np.arange(0,16,1), y=rounds_to_success_ideal_sim,\n",
    "               yerr=np.sqrt(var_rounds_to_success_ideal_sim/num_samples_in_avg),\n",
    "               fmt='o-', color='g', label='Noiseless simulation')\n",
    "ax[1].errorbar(capsize=4, x=np.arange(0,16,1), y=rounds_to_success_noisy_sim,\n",
    "               yerr=np.sqrt(var_rounds_to_success_noisy_sim/num_samples_in_avg),\n",
    "               fmt='o-', color='b', label='Noisy simulation')\n",
    "ax[1].errorbar(capsize=4, x=np.arange(0,16,1), y=np.average(rounds_to_success_diagonal, axis=1),\n",
    "               yerr=np.std(rounds_to_success_diagonal, axis=1),\n",
    "               fmt='o-', color='r', label='Experiment')\n",
    "ax[1].set_xlabel('Function learned')\n",
    "ax[1].set_ylabel(r'$\\langle N_{\\mathrm{RTS}}\\rangle$')\n",
    "ax[1].set_xticks(np.arange(0,16,1))\n",
    "ax[1].set_yticks(np.linspace(1,2,5))\n",
    "ax[1].set_xticklabels(function_labels, rotation = 45, ha=\"right\")\n",
    "ax[1].text(0.945, 0.9, r'(b)', transform = ax[1].transAxes)\n",
    "ax[1].set_ylim([0.95,2.05])\n",
    "ax[0].legend(frameon=False)\n",
    "ax[1].legend(frameon=False)\n",
    "\n",
    "plt.savefig(fname=f'Figure_S10.pdf', bbox_inches = 'tight')"
   ]
  },
  {
   "cell_type": "code",
   "execution_count": null,
   "metadata": {},
   "outputs": [],
   "source": []
  }
 ],
 "metadata": {
  "kernelspec": {
   "display_name": "Python 3",
   "language": "python",
   "name": "python3"
  },
  "language_info": {
   "codemirror_mode": {
    "name": "ipython",
    "version": 3
   },
   "file_extension": ".py",
   "mimetype": "text/x-python",
   "name": "python",
   "nbconvert_exporter": "python",
   "pygments_lexer": "ipython3",
   "version": "3.9.15"
  },
  "toc": {
   "base_numbering": 1,
   "nav_menu": {},
   "number_sections": true,
   "sideBar": true,
   "skip_h1_title": false,
   "title_cell": "Table of Contents",
   "title_sidebar": "Contents",
   "toc_cell": false,
   "toc_position": {},
   "toc_section_display": true,
   "toc_window_display": false
  },
  "varInspector": {
   "cols": {
    "lenName": 16,
    "lenType": 16,
    "lenVar": 40
   },
   "kernels_config": {
    "python": {
     "delete_cmd_postfix": "",
     "delete_cmd_prefix": "del ",
     "library": "var_list.py",
     "varRefreshCmd": "print(var_dic_list())"
    },
    "r": {
     "delete_cmd_postfix": ") ",
     "delete_cmd_prefix": "rm(",
     "library": "var_list.r",
     "varRefreshCmd": "cat(var_dic_list()) "
    }
   },
   "types_to_exclude": [
    "module",
    "function",
    "builtin_function_or_method",
    "instance",
    "_Feature"
   ],
   "window_display": false
  }
 },
 "nbformat": 4,
 "nbformat_minor": 4
}
